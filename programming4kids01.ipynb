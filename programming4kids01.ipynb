{
 "cells": [
  {
   "cell_type": "markdown",
   "metadata": {
    "slideshow": {
     "slide_type": "slide"
    }
   },
   "source": [
    "# Programming presentation for my beautiful daughter\n",
    "## by Petru Marginean\n",
    "### part 1 (under construction)\n"
   ]
  },
  {
   "cell_type": "markdown",
   "metadata": {
    "slideshow": {
     "slide_type": "slide"
    }
   },
   "source": [
    "# The file is an essential part of computer!\n",
    "### - photos, music, documents, movies, programs, source code are all files\n",
    "### - learning about files is a very important part of Linux\n",
    "### - on my Linux desktop there are almost 2 million files:\n",
    "```console\n",
    "$> sudo find / | wc -l\n",
    "1,781,425\n",
    "```"
   ]
  },
  {
   "cell_type": "markdown",
   "metadata": {
    "slideshow": {
     "slide_type": "slide"
    }
   },
   "source": [
    "# Many Linux commands are manipulating files\n",
    "### Examples: ```ls, cp, mv, mkdir, pwd, find, grep, gcc``` etc\n"
   ]
  },
  {
   "cell_type": "markdown",
   "metadata": {
    "slideshow": {
     "slide_type": "slide"
    }
   },
   "source": [
    "# What is a file?\n",
    "## A file is a sequence of bytes whose meaning is defined by the file creator\n",
    "# File types\n",
    "## - text files\n",
    "## - binary files"
   ]
  },
  {
   "cell_type": "markdown",
   "metadata": {
    "slideshow": {
     "slide_type": "slide"
    }
   },
   "source": [
    "# The end!\n",
    "## Good luck to U-Mich!!!\n",
    "### With love daddy!\n"
   ]
  }
 ],
 "metadata": {
  "celltoolbar": "Slideshow",
  "kernelspec": {
   "display_name": "Python 3",
   "language": "python",
   "name": "python3"
  },
  "language_info": {
   "codemirror_mode": {
    "name": "ipython",
    "version": 3
   },
   "file_extension": ".py",
   "mimetype": "text/x-python",
   "name": "python",
   "nbconvert_exporter": "python",
   "pygments_lexer": "ipython3",
   "version": "3.5.2"
  }
 },
 "nbformat": 4,
 "nbformat_minor": 0
}
