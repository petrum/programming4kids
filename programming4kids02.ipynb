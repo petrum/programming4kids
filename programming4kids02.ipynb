{
 "cells": [
  {
   "cell_type": "markdown",
   "metadata": {
    "slideshow": {
     "slide_type": "slide"
    }
   },
   "source": [
    "# C++ presentation for my beatiful daughter\n",
    "## by Petru Marginean\n"
   ]
  },
  {
   "cell_type": "markdown",
   "metadata": {
    "slideshow": {
     "slide_type": "slide"
    }
   },
   "source": [
    "#Simple C++ app\n",
    "```\n",
    "petrum@nuc ~/programming$ vi main.cpp\n",
    "\n",
    "petrum@nuc ~/programming$ ls -ltr\n",
    "total 4\n",
    "-rw-rw-r-- 1 petrum petrum 267 Aug 20 08:21 main.cpp\n",
    "petrum@nuc ~/programming$ cat main.cpp \n",
    "```\n",
    "\n",
    "```cpp\n",
    "#include <iostream>\n",
    " \n",
    "int main(int argc, char* argv[])\n",
    "{\n",
    "    std::cerr << \"We have received \" << argc << \" arguments.\\n\";\n",
    "    for (int i = 0; i < argc; ++i)\n",
    "    {\n",
    "        std::cout << \"- argv[\" << i << \"] = '\" << argv[i] << \"'\" << std::endl;\n",
    "    }\n",
    "    return argc;\n",
    "}\n",
    "```"
   ]
  },
  {
   "cell_type": "markdown",
   "metadata": {
    "slideshow": {
     "slide_type": "slide"
    }
   },
   "source": [
    "#Compilation + linking\n",
    "petrum@nuc ~/programming$ g++ main.cpp \n",
    "\n",
    "petrum@nuc ~/programming$ ls -ltr      \n",
    "total 16\n",
    "-rw-rw-r-- 1 petrum petrum  267 Aug 20 08:21 main.cpp\n",
    "-rwxrwxr-x 1 petrum petrum 9320 Aug 20 08:25 a.out\n",
    "\n",
    "petrum@nuc ~/programming$ file main.cpp \n",
    "main.cpp: C source, ASCII text\n",
    "\n",
    "petrum@nuc ~/programming$ file a.out\n",
    "a.out: ELF 64-bit LSB executable, x86-64, version 1 (SYSV), dynamically linked, interpreter /lib64/ld-linux-x86-64.so.2, for GNU/Linux 2.6.32, BuildID[sha1]=123ba366434f809a5c2a429905b2c3f0a0243489, not stripped"
   ]
  },
  {
   "cell_type": "code",
   "execution_count": null,
   "metadata": {
    "collapsed": true,
    "slideshow": {
     "slide_type": "slide"
    }
   },
   "outputs": [],
   "source": [
    "#Running the program\n",
    "```\n",
    "petrum@nuc ~/programming$ ./a.out \n",
    "We have received 1 arguments.\n",
    "- argv[0] = './a.out'\n",
    "\n",
    "petrum@nuc ~/programming$ ./a.out Hello World!\n",
    "We have received 3 arguments.\n",
    "- argv[0] = './a.out'\n",
    "- argv[1] = 'Hello'\n",
    "- argv[2] = 'World!'\n",
    "```"
   ]
  },
  {
   "cell_type": "code",
   "execution_count": null,
   "metadata": {
    "collapsed": true
   },
   "outputs": [],
   "source": []
  },
  {
   "cell_type": "code",
   "execution_count": null,
   "metadata": {
    "collapsed": true
   },
   "outputs": [],
   "source": []
  }
 ],
 "metadata": {
  "celltoolbar": "Slideshow",
  "kernelspec": {
   "display_name": "Python 3",
   "language": "python",
   "name": "python3"
  },
  "language_info": {
   "codemirror_mode": {
    "name": "ipython",
    "version": 3
   },
   "file_extension": ".py",
   "mimetype": "text/x-python",
   "name": "python",
   "nbconvert_exporter": "python",
   "pygments_lexer": "ipython3",
   "version": "3.5.2"
  }
 },
 "nbformat": 4,
 "nbformat_minor": 0
}
