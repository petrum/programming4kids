{
 "cells": [
  {
   "cell_type": "markdown",
   "metadata": {
    "slideshow": {
     "slide_type": "slide"
    }
   },
   "source": [
    "# C++ presentation for my beautiful daughter Maria.\n",
    "## by Petru Marginean\n",
    "### part 2-f\n",
    "<div id=\"footer\">...</div>"
   ]
  },
  {
   "cell_type": "markdown",
   "metadata": {
    "slideshow": {
     "slide_type": "slide"
    }
   },
   "source": [
    "# Simple C++ app\n",
    "<br>\n",
    "Nothing special, just use `vi` to edit a simple `C++` program. The code prints at `stderr` the number of parameters, and at `stdout` the value of the parameters.\n",
    "```console\n",
    "petrum@nuc ~/programming4kids$ vi main.cpp\n",
    "\n",
    "petrum@nuc ~/programming4kids$ ls -ltr\n",
    "total 4\n",
    "-rw-rw-r-- 1 petrum petrum 267 Aug 20 08:21 main.cpp\n",
    "petrum@nuc ~/programming4kids$ cat main.cpp \n",
    "```\n",
    "\n",
    "```cpp\n",
    "#include <iostream>\n",
    " \n",
    "int main(int argc, char* argv[])\n",
    "{\n",
    "    std::cerr << \"We have received \" << argc << \" arguments.\\n\";\n",
    "    for (int i = 0; i < argc; ++i)\n",
    "    {\n",
    "        std::cout << \"- argv[\" << i << \"] = '\" << argv[i] << \"'\" << std::endl;\n",
    "    }\n",
    "    return argc;\n",
    "}\n",
    "```"
   ]
  },
  {
   "cell_type": "markdown",
   "metadata": {
    "slideshow": {
     "slide_type": "slide"
    }
   },
   "source": [
    "# Compilation + linking\n",
    "<br>\n",
    "Since we have a single compilation unit (`main.cpp`) we compile/link in a single step. We also introduce the `file` command, very handy to describe the file types (based on the file content)\n",
    "\n",
    "```console\n",
    "petrum@nuc ~/programming4kids$ g++ main.cpp \n",
    "\n",
    "petrum@nuc ~/programming4kids$ ls -ltr      \n",
    "total 16\n",
    "-rw-rw-r-- 1 petrum petrum  267 Aug 20 08:21 main.cpp\n",
    "-rwxrwxr-x 1 petrum petrum 9320 Aug 20 08:25 a.out\n",
    "\n",
    "petrum@nuc ~/programming4kids$ file main.cpp \n",
    "main.cpp: C source, ASCII text\n",
    "\n",
    "petrum@nuc ~/programming4kids$ file a.out\n",
    "a.out: ELF 64-bit LSB executable, x86-64, version 1 (SYSV), dynamically linked, interpreter /lib64/ld-linux-x86-64.so.2, for GNU/Linux 2.6.32, BuildID[sha1]=123ba366434f809a5c2a429905b2c3f0a0243489, not stripped\n",
    "```"
   ]
  },
  {
   "cell_type": "markdown",
   "metadata": {
    "slideshow": {
     "slide_type": "slide"
    }
   },
   "source": [
    "# Running the program\n",
    "<br>\n",
    "We run the program twice: we first give no parameters (and surprinsingly notice the `argc == 1`!) and the second time we pass some random parameters (strings separated by spaces)\n",
    "```console\n",
    "petrum@nuc ~/programming4kids$ ./a.out \n",
    "We have received 1 arguments.\n",
    "- argv[0] = './a.out'\n",
    "\n",
    "petrum@nuc ~/programming4kids$ ./a.out Hello World!\n",
    "We have received 3 arguments.\n",
    "- argv[0] = './a.out'\n",
    "- argv[1] = 'Hello'\n",
    "- argv[2] = 'World!'\n",
    "```"
   ]
  },
  {
   "cell_type": "markdown",
   "metadata": {
    "slideshow": {
     "slide_type": "slide"
    }
   },
   "source": [
    "# Pipes, parameters and return code\n",
    "<br>\n",
    "We use in general the command line parameters to parameterize the app, the `stdin` to provide the data we work on, `stdout` to output dthe generated data (buffered), the `stderr` to output the error messages (unbuffered, fast display), and the error code to signal success / errors to the caller.\n",
    "\n",
    "```\n",
    "\n",
    "                                  | command line\n",
    "                                  |  parameters\n",
    "                                  | (argc/argv)\n",
    "                                  v\n",
    "                +---------------------------------+\n",
    "                |                                 |\n",
    "    stdin       |                                 |   stdout\n",
    "  ==========>   |           application           | ===========>\n",
    "   std:cin      |(C/C++, Python, Ruby, Perl etc)  |  std::cout\n",
    "                |                                 | (buffered)\n",
    "                +---------------------------------+\n",
    "                          |            |\n",
    "                          |            |\n",
    "                  stderr  |            | return code\n",
    "                 std:cerr |            |\n",
    "              (unbuffered)|            |\n",
    "                          v            v\n",
    "\n",
    "\n",
    "```"
   ]
  },
  {
   "cell_type": "markdown",
   "metadata": {
    "slideshow": {
     "slide_type": "slide"
    }
   },
   "source": [
    "# Running - stdout redirection\n",
    "<br>\n",
    "We introduce the output redirection: by using the `>` redirection operator we redirect the `stdout` from the terminal into a file!\n",
    "\n",
    "```console\n",
    "petrum@nuc ~/programming4kids$ ls -ltr\n",
    "total 16\n",
    "-rw-rw-r-- 1 petrum petrum  267 Aug 20 08:21 main.cpp\n",
    "-rwxrwxr-x 1 petrum petrum 9320 Aug 20 08:25 a.out\n",
    "\n",
    "petrum@nuc ~/programming4kids$ ./a.out Hello World! >out.std\n",
    "We have received 3 arguments.\n",
    "\n",
    "petrum@nuc ~/programming4kids$ ls -ltr\n",
    "total 20\n",
    "-rw-rw-r-- 1 petrum petrum  267 Aug 20 08:21 main.cpp\n",
    "-rwxrwxr-x 1 petrum petrum 9320 Aug 20 08:25 a.out\n",
    "-rw-rw-r-- 1 petrum petrum   63 Aug 20 08:26 out.std\n",
    "\n",
    "petrum@nuc ~/programming4kids$ cat out.std \n",
    "- argv[0] = './a.out'\n",
    "- argv[1] = 'Hello'\n",
    "- argv[2] = 'World!'\n",
    "```"
   ]
  },
  {
   "cell_type": "markdown",
   "metadata": {
    "slideshow": {
     "slide_type": "slide"
    }
   },
   "source": [
    "# Running - full redirection\n",
    "<br>\n",
    "Here we redirect both `stdout` and `stderr`. The app prints nothing on the screen anymore. Both `stdout` and `stderr` go into different files. The `stdout` has the `1` file handler (or the default) and `stderr` has the `2` file handler.\n",
    "```console\n",
    "petrum@nuc ~/programming4kids$ ./a.out Hello World! 2>err.std >out.std\n",
    "\n",
    "petrum@nuc ~/programming4kids$ ls -ltr\n",
    "total 24\n",
    "-rw-rw-r-- 1 petrum petrum  267 Aug 20 08:21 main.cpp\n",
    "-rwxrwxr-x 1 petrum petrum 9320 Aug 20 08:25 a.out\n",
    "-rw-rw-r-- 1 petrum petrum   63 Aug 20 08:26 out.std\n",
    "-rw-rw-r-- 1 petrum petrum   30 Aug 20 08:26 err.std\n",
    "\n",
    "petrum@nuc ~/programming4kids$ cat err.std \n",
    "We have received 3 arguments.\n",
    "```"
   ]
  },
  {
   "cell_type": "markdown",
   "metadata": {
    "slideshow": {
     "slide_type": "slide"
    }
   },
   "source": [
    "# Running with appending\n",
    "<br>\n",
    "We use the `>>` operator to append to a file (instead of overwriting the file content)\n",
    "```console\n",
    "petrum@nuc ~/programming4kids$ ./a.out Hello World! 2>>err.std >>out.std\n",
    "\n",
    "petrum@nuc ~/programming4kids$ ls -ltr\n",
    "total 24\n",
    "-rw-rw-r-- 1 petrum petrum  267 Aug 20 08:21 main.cpp\n",
    "-rwxrwxr-x 1 petrum petrum 9320 Aug 20 08:25 a.out\n",
    "-rw-rw-r-- 1 petrum petrum  126 Aug 20 08:27 out.std\n",
    "-rw-rw-r-- 1 petrum petrum   60 Aug 20 08:27 err.std\n",
    "\n",
    "petrum@nuc ~/programming4kids$ cat err.std \n",
    "We have received 3 arguments.\n",
    "We have received 3 arguments.\n",
    "```"
   ]
  },
  {
   "cell_type": "markdown",
   "metadata": {
    "slideshow": {
     "slide_type": "slide"
    }
   },
   "source": [
    "# Running – error code\n",
    "<br>\n",
    "If we are not interested in reading the app output (and we want to discard it) we can use `/dev/null` as the file destination. We also can read the code the app returns (in this simple example, the code equals the number of parameters; remember `return argc;` in `int main()`?)\n",
    "\n",
    "In fact any Linux command returns an error code! \n",
    "\n",
    "For example below the `ls` command return `0` (no error) if everything is fine or `2` if the listed fine is not available. Please note each command overides the return code produce by the previous command.\n",
    "```console\n",
    "petrum@nuc ~/programming4kids$ ./a.out Hello World! >/dev/null\n",
    "We have received 3 arguments.\n",
    "\n",
    "petrum@nuc ~/programming4kids$ echo $?\n",
    "3\n",
    "\n",
    "petrum@nuc ~/programming4kids$ ls\n",
    "a.out  err.std  main.cpp  out.std\n",
    "\n",
    "petrum@nuc ~/programming4kids$ echo $?\n",
    "0\n",
    "\n",
    "petrum@nuc ~/programming4kids$ ls missingFile.txt\n",
    "ls: cannot access 'missingFile.txt': No such file or directory\n",
    "\n",
    "petrum@nuc ~/programming4kids$ echo $?\n",
    "2\n",
    "```"
   ]
  },
  {
   "cell_type": "markdown",
   "metadata": {
    "slideshow": {
     "slide_type": "slide"
    }
   },
   "source": [
    "# More ‘file’ output\n",
    "<br>\n",
    "Using the `*` and running the `file` comand with multiple files in a single shot.\n",
    "```console\n",
    "petrum@nuc ~/programming4kids$ file *\n",
    "a.out:    ELF 64-bit LSB executable, x86-64, version 1 (SYSV), dynamically linked, interpreter /lib64/ld-linux-x86-64.so.2, for GNU/Linux 2.6.32, BuildID[sha1]=123ba366434f809a5c2a429905b2c3f0a0243489, not stripped\n",
    "err.std:  ASCII text\n",
    "main.cpp: C source, ASCII text\n",
    "out.std:  ASCII text\n",
    "```"
   ]
  },
  {
   "cell_type": "markdown",
   "metadata": {
    "slideshow": {
     "slide_type": "slide"
    }
   },
   "source": [
    "# Compilation only\n",
    "<br>\n",
    "Instead of doing compilation + linking in a single shot we can do only the compile part (using the `-c` parameter). A single object file is generated from the compilation unit (the same filename, but with the `*.o` extension)\n",
    "```console\n",
    "petrum@nuc ~/programming4kids$ g++ -c main.cpp\n",
    "\n",
    "petrum@nuc ~/programming4kids$ echo $?\n",
    "0\n",
    "\n",
    "petrum@nuc ~/programming4kids$ ls -ltr\n",
    "total 28\n",
    "-rw-rw-r-- 1 petrum petrum  126 Aug 20 08:27 out.std\n",
    "-rw-rw-r-- 1 petrum petrum   60 Aug 20 08:27 err.std\n",
    "-rwxrwxr-x 1 petrum petrum 9320 Aug 20 08:38 app.exe\n",
    "-rw-rw-r-- 1 petrum petrum  266 Aug 20 08:40 main.cpp\n",
    "-rw-rw-r-- 1 petrum petrum 3224 Aug 20 08:40 main.o\n",
    "\n",
    "petrum@nuc ~/programming4kids$ file main.o \n",
    "main.o: ELF 64-bit LSB relocatable, x86-64, version 1 (SYSV), not stripped\n",
    "```"
   ]
  },
  {
   "cell_type": "markdown",
   "metadata": {
    "slideshow": {
     "slide_type": "slide"
    }
   },
   "source": [
    "# Compilation + linking\n",
    "<br>\n",
    "After compilation only we can link together the multiple `*.o` and libraries. Please note in the linking phase we do not use the source code anymore (not `*.cpp`, only `*.o` and eventually `*.a` or `*.so`)\n",
    "```console\n",
    "petrum@nuc ~/programming4kids$ ls -ltr\n",
    "total 4\n",
    "-rw-rw-r-- 1 petrum petrum 267 Aug 20 08:51 main.cpp\n",
    "\n",
    "petrum@nuc ~/programming4kids$ g++ -c main.cpp\n",
    "\n",
    "petrum@nuc ~/programming4kids$ ls -ltr\n",
    "total 8\n",
    "-rw-rw-r-- 1 petrum petrum  267 Aug 20 08:51 main.cpp\n",
    "-rw-rw-r-- 1 petrum petrum 3224 Aug 20 09:04 main.o\n",
    "\n",
    "petrum@nuc ~/programming4kids$ g++ main.o\n",
    "\n",
    "petrum@nuc ~/programming4kids$ ls -ltr\n",
    "total 20\n",
    "-rw-rw-r-- 1 petrum petrum  267 Aug 20 08:51 main.cpp\n",
    "-rw-rw-r-- 1 petrum petrum 3224 Aug 20 09:04 main.o\n",
    "-rwxrwxr-x 1 petrum petrum 9320 Aug 20 09:04 a.out\n",
    "```"
   ]
  },
  {
   "cell_type": "markdown",
   "metadata": {
    "slideshow": {
     "slide_type": "slide"
    }
   },
   "source": [
    "# Specifying output name (‘-o name’)\n",
    "<br>\n",
    "Instead of the default `a.out` out file name we can specify the out filename using the `-o` parameter. Of course we could use the `mv` command to get a similar effect.\n",
    "```console\n",
    "petrum@nuc ~/programming4kids$ g++ main.o -o app.exe\n",
    "\n",
    "petrum@nuc ~/programming4kids$ ls -ltr\n",
    "total 32\n",
    "-rw-rw-r-- 1 petrum petrum  267 Aug 20 08:51 main.cpp\n",
    "-rw-rw-r-- 1 petrum petrum 3224 Aug 20 09:04 main.o\n",
    "-rwxrwxr-x 1 petrum petrum 9320 Aug 20 09:04 a.out\n",
    "-rwxrwxr-x 1 petrum petrum 9320 Aug 20 09:06 app.exe\n",
    "\n",
    "petrum@nuc ~/programming4kids$ mv a.out app.exe \n",
    "\n",
    "petrum@nuc ~/programming4kids$ ls -ltr\n",
    "total 20\n",
    "-rw-rw-r-- 1 petrum petrum  267 Aug 20 08:51 main.cpp\n",
    "-rw-rw-r-- 1 petrum petrum 3224 Aug 20 09:04 main.o\n",
    "-rwxrwxr-x 1 petrum petrum 9320 Aug 20 09:04 app.exe\n",
    "```"
   ]
  },
  {
   "cell_type": "markdown",
   "metadata": {
    "slideshow": {
     "slide_type": "slide"
    }
   },
   "source": [
    "# The end!\n",
    "## Good luck to U-Mich!!!\n",
    "### With love daddy!\n"
   ]
  }
 ],
 "metadata": {
  "celltoolbar": "Slideshow",
  "kernelspec": {
   "display_name": "Python 3",
   "language": "python",
   "name": "python3"
  },
  "language_info": {
   "codemirror_mode": {
    "name": "ipython",
    "version": 3
   },
   "file_extension": ".py",
   "mimetype": "text/x-python",
   "name": "python",
   "nbconvert_exporter": "python",
   "pygments_lexer": "ipython3",
   "version": "3.5.2"
  }
 },
 "nbformat": 4,
 "nbformat_minor": 0
}
