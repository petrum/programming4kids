{
 "cells": [
  {
   "cell_type": "markdown",
   "metadata": {
    "slideshow": {
     "slide_type": "slide"
    }
   },
   "source": [
    "# C++ presentation for my beatiful daughter\n",
    "## by Petru Marginean\n",
    "### part 1\n"
   ]
  },
  {
   "cell_type": "markdown",
   "metadata": {
    "slideshow": {
     "slide_type": "slide"
    }
   },
   "source": [
    "# Simple C++ app\n",
    "<br>\n",
    "```console\n",
    "petrum@nuc ~/programming$ vi main.cpp\n",
    "\n",
    "petrum@nuc ~/programming$ ls -ltr\n",
    "total 4\n",
    "-rw-rw-r-- 1 petrum petrum 267 Aug 20 08:21 main.cpp\n",
    "petrum@nuc ~/programming$ cat main.cpp \n",
    "```\n",
    "\n",
    "```cpp\n",
    "#include <iostream>\n",
    " \n",
    "int main(int argc, char* argv[])\n",
    "{\n",
    "    std::cerr << \"We have received \" << argc << \" arguments.\\n\";\n",
    "    for (int i = 0; i < argc; ++i)\n",
    "    {\n",
    "        std::cout << \"- argv[\" << i << \"] = '\" << argv[i] << \"'\" << std::endl;\n",
    "    }\n",
    "    return argc;\n",
    "}\n",
    "```"
   ]
  },
  {
   "cell_type": "markdown",
   "metadata": {
    "slideshow": {
     "slide_type": "slide"
    }
   },
   "source": [
    "# Compilation + linking\n",
    "<br>\n",
    "\n",
    "```console\n",
    "petrum@nuc ~/programming$ g++ main.cpp \n",
    "\n",
    "petrum@nuc ~/programming$ ls -ltr      \n",
    "total 16\n",
    "-rw-rw-r-- 1 petrum petrum  267 Aug 20 08:21 main.cpp\n",
    "-rwxrwxr-x 1 petrum petrum 9320 Aug 20 08:25 a.out\n",
    "\n",
    "petrum@nuc ~/programming$ file main.cpp \n",
    "main.cpp: C source, ASCII text\n",
    "\n",
    "petrum@nuc ~/programming$ file a.out\n",
    "a.out: ELF 64-bit LSB executable, x86-64, version 1 (SYSV), dynamically linked, interpreter /lib64/ld-linux-x86-64.so.2, for GNU/Linux 2.6.32, BuildID[sha1]=123ba366434f809a5c2a429905b2c3f0a0243489, not stripped\n",
    "```"
   ]
  },
  {
   "cell_type": "markdown",
   "metadata": {
    "slideshow": {
     "slide_type": "slide"
    }
   },
   "source": [
    "# Running the program\n",
    "<br>\n",
    "\n",
    "```console\n",
    "petrum@nuc ~/programming$ ./a.out \n",
    "We have received 1 arguments.\n",
    "- argv[0] = './a.out'\n",
    "\n",
    "petrum@nuc ~/programming$ ./a.out Hello World!\n",
    "We have received 3 arguments.\n",
    "- argv[0] = './a.out'\n",
    "- argv[1] = 'Hello'\n",
    "- argv[2] = 'World!'\n",
    "```"
   ]
  },
  {
   "cell_type": "markdown",
   "metadata": {
    "slideshow": {
     "slide_type": "slide"
    }
   },
   "source": [
    "# Running - stdout redirection\n",
    "<br>\n",
    "\n",
    "```console\n",
    "petrum@nuc ~/programming$ ls -ltr\n",
    "total 16\n",
    "-rw-rw-r-- 1 petrum petrum  267 Aug 20 08:21 main.cpp\n",
    "-rwxrwxr-x 1 petrum petrum 9320 Aug 20 08:25 a.out\n",
    "\n",
    "petrum@nuc ~/programming$ ./a.out Hello World! >out.std\n",
    "We have received 3 arguments.\n",
    "\n",
    "petrum@nuc ~/programming$ ls -ltr\n",
    "total 20\n",
    "-rw-rw-r-- 1 petrum petrum  267 Aug 20 08:21 main.cpp\n",
    "-rwxrwxr-x 1 petrum petrum 9320 Aug 20 08:25 a.out\n",
    "-rw-rw-r-- 1 petrum petrum   63 Aug 20 08:26 out.std\n",
    "\n",
    "petrum@nuc ~/programming$ cat out.std \n",
    "- argv[0] = './a.out'\n",
    "- argv[1] = 'Hello'\n",
    "- argv[2] = 'World!'\n",
    "```"
   ]
  },
  {
   "cell_type": "markdown",
   "metadata": {
    "slideshow": {
     "slide_type": "slide"
    }
   },
   "source": [
    "# Running - full redirection\n",
    "<br>\n",
    "\n",
    "```console\n",
    "petrum@nuc ~/programming$ ./a.out Hello World! 2>err.std >out.std\n",
    "\n",
    "petrum@nuc ~/programming$ ls -ltr\n",
    "total 24\n",
    "-rw-rw-r-- 1 petrum petrum  267 Aug 20 08:21 main.cpp\n",
    "-rwxrwxr-x 1 petrum petrum 9320 Aug 20 08:25 a.out\n",
    "-rw-rw-r-- 1 petrum petrum   63 Aug 20 08:26 out.std\n",
    "-rw-rw-r-- 1 petrum petrum   30 Aug 20 08:26 err.std\n",
    "\n",
    "petrum@nuc ~/programming$ cat err.std \n",
    "We have received 3 arguments.\n",
    "```"
   ]
  },
  {
   "cell_type": "markdown",
   "metadata": {
    "slideshow": {
     "slide_type": "slide"
    }
   },
   "source": [
    "# Running with appending\n",
    "<br>\n",
    "\n",
    "```console\n",
    "petrum@nuc ~/programming$ ./a.out Hello World! 2>>err.std >>out.std\n",
    "\n",
    "petrum@nuc ~/programming$ ls -ltr\n",
    "total 24\n",
    "-rw-rw-r-- 1 petrum petrum  267 Aug 20 08:21 main.cpp\n",
    "-rwxrwxr-x 1 petrum petrum 9320 Aug 20 08:25 a.out\n",
    "-rw-rw-r-- 1 petrum petrum  126 Aug 20 08:27 out.std\n",
    "-rw-rw-r-- 1 petrum petrum   60 Aug 20 08:27 err.std\n",
    "\n",
    "petrum@nuc ~/programming$ cat err.std \n",
    "We have received 3 arguments.\n",
    "We have received 3 arguments.\n",
    "```"
   ]
  },
  {
   "cell_type": "markdown",
   "metadata": {
    "slideshow": {
     "slide_type": "slide"
    }
   },
   "source": [
    "# Running – error code\n",
    "<br>\n",
    "```console\n",
    "petrum@nuc ~/programming$ ./a.out Hello World! >/dev/null\n",
    "We have received 3 arguments.\n",
    "\n",
    "petrum@nuc ~/programming$ echo $?\n",
    "3\n",
    "\n",
    "petrum@nuc ~/programming$ ls\n",
    "a.out  err.std  main.cpp  out.std\n",
    "\n",
    "petrum@nuc ~/programming$ echo $?\n",
    "0\n",
    "\n",
    "petrum@nuc ~/programming$ ls caca\n",
    "ls: cannot access 'caca': No such file or directory\n",
    "\n",
    "petrum@nuc ~/programming$ echo $?\n",
    "2\n",
    "```"
   ]
  },
  {
   "cell_type": "markdown",
   "metadata": {
    "slideshow": {
     "slide_type": "slide"
    }
   },
   "source": [
    "# More ‘file’ output\n",
    "<br>\n",
    "```console\n",
    "petrum@nuc ~/programming$ file *\n",
    "a.out:    ELF 64-bit LSB executable, x86-64, version 1 (SYSV), dynamically linked, interpreter /lib64/ld-linux-x86-64.so.2, for GNU/Linux 2.6.32, BuildID[sha1]=123ba366434f809a5c2a429905b2c3f0a0243489, not stripped\n",
    "err.std:  ASCII text\n",
    "main.cpp: C source, ASCII text\n",
    "out.std:  ASCII text\n",
    "```"
   ]
  },
  {
   "cell_type": "markdown",
   "metadata": {
    "slideshow": {
     "slide_type": "slide"
    }
   },
   "source": [
    "# Compilation only\n",
    "<br>\n",
    "```console\n",
    "petrum@nuc ~/programming$ g++ -c main.cpp\n",
    "\n",
    "petrum@nuc ~/programming$ echo $?\n",
    "0\n",
    "\n",
    "petrum@nuc ~/programming$ ls -ltr\n",
    "total 28\n",
    "-rw-rw-r-- 1 petrum petrum  126 Aug 20 08:27 out.std\n",
    "-rw-rw-r-- 1 petrum petrum   60 Aug 20 08:27 err.std\n",
    "-rwxrwxr-x 1 petrum petrum 9320 Aug 20 08:38 app.exe\n",
    "-rw-rw-r-- 1 petrum petrum  266 Aug 20 08:40 main.cpp\n",
    "-rw-rw-r-- 1 petrum petrum 3224 Aug 20 08:40 main.o\n",
    "\n",
    "petrum@nuc ~/programming$ file main.o \n",
    "main.o: ELF 64-bit LSB relocatable, x86-64, version 1 (SYSV), not stripped\n",
    "```"
   ]
  },
  {
   "cell_type": "markdown",
   "metadata": {
    "slideshow": {
     "slide_type": "slide"
    }
   },
   "source": [
    "# Compilation + linking\n",
    "<br>\n",
    "```console\n",
    "petrum@nuc ~/programming$ ls -ltr\n",
    "total 4\n",
    "-rw-rw-r-- 1 petrum petrum 267 Aug 20 08:51 main.cpp\n",
    "\n",
    "petrum@nuc ~/programming$ g++ -c main.cpp\n",
    "\n",
    "petrum@nuc ~/programming$ ls -ltr\n",
    "total 8\n",
    "-rw-rw-r-- 1 petrum petrum  267 Aug 20 08:51 main.cpp\n",
    "-rw-rw-r-- 1 petrum petrum 3224 Aug 20 09:04 main.o\n",
    "\n",
    "petrum@nuc ~/programming$ g++ main.o\n",
    "\n",
    "petrum@nuc ~/programming$ ls -ltr\n",
    "total 20\n",
    "-rw-rw-r-- 1 petrum petrum  267 Aug 20 08:51 main.cpp\n",
    "-rw-rw-r-- 1 petrum petrum 3224 Aug 20 09:04 main.o\n",
    "-rwxrwxr-x 1 petrum petrum 9320 Aug 20 09:04 a.out\n",
    "```"
   ]
  },
  {
   "cell_type": "markdown",
   "metadata": {
    "slideshow": {
     "slide_type": "slide"
    }
   },
   "source": [
    "# Specifying output name (‘-o name’)\n",
    "<br>\n",
    "```console\n",
    "petrum@nuc ~/programming$ g++ main.o -o app.exe\n",
    "\n",
    "petrum@nuc ~/programming$ ls -ltr\n",
    "total 32\n",
    "-rw-rw-r-- 1 petrum petrum  267 Aug 20 08:51 main.cpp\n",
    "-rw-rw-r-- 1 petrum petrum 3224 Aug 20 09:04 main.o\n",
    "-rwxrwxr-x 1 petrum petrum 9320 Aug 20 09:04 a.out\n",
    "-rwxrwxr-x 1 petrum petrum 9320 Aug 20 09:06 app.exe\n",
    "\n",
    "petrum@nuc ~/programming$ mv a.out app.exe \n",
    "\n",
    "petrum@nuc ~/programming$ ls -ltr\n",
    "total 20\n",
    "-rw-rw-r-- 1 petrum petrum  267 Aug 20 08:51 main.cpp\n",
    "-rw-rw-r-- 1 petrum petrum 3224 Aug 20 09:04 main.o\n",
    "-rwxrwxr-x 1 petrum petrum 9320 Aug 20 09:04 app.exe\n",
    "```"
   ]
  },
  {
   "cell_type": "markdown",
   "metadata": {
    "slideshow": {
     "slide_type": "slide"
    }
   },
   "source": [
    "# The end!\n",
    "## Good luck to U-Mich!!!\n",
    "### With love daddy!\n"
   ]
  }
 ],
 "metadata": {
  "celltoolbar": "Slideshow",
  "kernelspec": {
   "display_name": "Python 3",
   "language": "python",
   "name": "python3"
  },
  "language_info": {
   "codemirror_mode": {
    "name": "ipython",
    "version": 3
   },
   "file_extension": ".py",
   "mimetype": "text/x-python",
   "name": "python",
   "nbconvert_exporter": "python",
   "pygments_lexer": "ipython3",
   "version": "3.5.2"
  }
 },
 "nbformat": 4,
 "nbformat_minor": 0
}
